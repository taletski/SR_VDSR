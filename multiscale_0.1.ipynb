{
 "cells": [
  {
   "cell_type": "code",
   "execution_count": 1,
   "metadata": {
    "collapsed": false
   },
   "outputs": [],
   "source": [
    "import matplotlib\n",
    "import matplotlib.pyplot as plt\n",
    "%matplotlib inline\n",
    "\n",
    "import lmdb\n",
    "\n",
    "import numpy as np\n",
    "import PIL\n",
    "import random\n",
    "from IPython.core.display import Image, display\n",
    "\n",
    "import torch\n",
    "import torch.nn as nn\n",
    "import torch.optim as optim\n",
    "import torch.functional as F\n",
    "import torch.utils.data as data\n",
    "from torch.utils.data import Dataset\n",
    "\n",
    "from torch.autograd import Variable\n",
    "from torch.autograd import Function\n",
    "from torch.autograd import gradcheck\n",
    "\n",
    "import torchvision\n",
    "import torchvision.transforms as transforms\n",
    "\n",
    "CUDA_DEVICE = 2"
   ]
  },
  {
   "cell_type": "code",
   "execution_count": 2,
   "metadata": {
    "collapsed": false
   },
   "outputs": [],
   "source": [
    "class HR_dataset(Dataset):\n",
    "    def __init__(self, validation=False, size=500):\n",
    "        self.val = validation\n",
    "        self.size = size # Нужен для создания валидационной картинки - центральный кроп\n",
    "        \n",
    "        self.data = torchvision.datasets.ImageFolder('RandomDset_1/')  # датасет состоит из разных \n",
    "                                                                       # картинок с разным масштабом сцены\n",
    "                                                                       # - AUGMENTATION #0'''\n",
    "        self.validationData = torchvision.datasets.ImageFolder('HR_dataset/')\n",
    "        self.totensor = transforms.Compose([\n",
    "            transforms.ToTensor(),\n",
    "            transforms.Normalize(mean=[0.485, 0.456, 0.406],\n",
    "                                     std=[0.229, 0.224, 0.225])\n",
    "        ])\n",
    "        \n",
    "        self.recover = transforms.Compose([\n",
    "            transforms.Normalize(mean=[ 0., 0., 0. ],\n",
    "                                 std=[ 1/0.229, 1/0.224, 1/0.225 ]),\n",
    "            transforms.Normalize(mean=[ -0.485, -0.456, -0.406 ],\n",
    "                                 std=[ 1., 1., 1. ]),\n",
    "        ])\n",
    "    \n",
    "    def downscale(self, image, downscale_ratio):\n",
    "\n",
    "        size = image.size[1], image.size[0]\n",
    "        dr = downscale_ratio\n",
    "        new_size = int(size[0] // dr), int(size[1] // dr)\n",
    "        \n",
    "        # Сжатие\n",
    "        method = int(1 + 3*np.random.sample())                        # - Уменьшение картинки рандомным методом\n",
    "        downscale = transforms.Resize(new_size, interpolation=method) # - AUGMENTATION #1\n",
    "        upscale = transforms.Resize(size, interpolation=2)\n",
    "        \n",
    "        image = downscale(image)\n",
    "        \n",
    "        small_image = self.totensor(image)\n",
    "        image = self.totensor(upscale(image))\n",
    "        return image, small_image\n",
    "    \n",
    "    def get(self, idx):\n",
    "        \n",
    "        if self.val == True:\n",
    "            image, _ = self.validationData.__getitem__(idx)\n",
    "        else:\n",
    "            image, _ = self.data.__getitem__(idx)\n",
    "        \n",
    "        size = image.size[1], image.size[0]\n",
    "        downscale_ratio = (2 + 0.5 * int(4.4 * np.random.sample()))\n",
    "        \n",
    "        if self.val == False and min(size) > 500:\n",
    "            size = self.size\n",
    "            crop = transforms.RandomCrop(size) # обрезка - небольшой размер для бОльшего размера батча\n",
    "            image = crop(image)\n",
    "            size = image.size[1], image.size[0]\n",
    "            \n",
    "        hr_image = self.totensor(image)\n",
    "        \n",
    "        inter_lr_image, small_lr_image = self.downscale(image, downscale_ratio)\n",
    "        \n",
    "        return small_lr_image, inter_lr_image, hr_image, downscale_ratio\n",
    "    \n",
    "    def show(self, idx):\n",
    "        small, lr, hr, dr = self.get(idx)\n",
    "#         images = small, lr, hr\n",
    "        images = self.recover(hr), self.recover(small), self.recover(lr)\n",
    "        labels = ['High Resolution', 'Low Resolution', 'Interpolated']\n",
    "        fig = plt.figure(figsize=(20, 6))\n",
    "        fig.suptitle('Downscale ratio = {}'.format(dr), size=15)\n",
    "        for it, image in enumerate(images):\n",
    "            image = np.asarray(image)\n",
    "            label = labels[it]\n",
    "            pic = fig.add_subplot(1, 3, it+1)\n",
    "            pic.set_title('{}:'.format(label))\n",
    "            pic.imshow(np.transpose(image, (1, 2, 0)))\n",
    "        \n",
    "    \n",
    "    def __getitem__(self, idx):\n",
    "        _, lr_image, hr_image, _ = self.get(idx)\n",
    "        return lr_image, hr_image\n",
    "    \n",
    "    def __len__(self):\n",
    "        if self.val:\n",
    "            return self.validationData.__len__()\n",
    "        else:\n",
    "            return self.data.__len__()"
   ]
  },
  {
   "cell_type": "code",
   "execution_count": 3,
   "metadata": {
    "collapsed": false
   },
   "outputs": [],
   "source": [
    "train_dataset = HR_dataset()\n",
    "valid_dataset = HR_dataset(validation=True, size=100)"
   ]
  },
  {
   "cell_type": "code",
   "execution_count": 14,
   "metadata": {
    "collapsed": false
   },
   "outputs": [
    {
     "data": {
      "image/png": "[encoded data removed]",
      "text/plain": [
       "<matplotlib.figure.Figure at 0x7fd72b32af98>"
      ]
     },
     "metadata": {},
     "output_type": "display_data"
    }
   ],
   "source": [
    "train_dataset.show(1050)"
   ]
  },
  {
   "cell_type": "code",
   "execution_count": 5,
   "metadata": {
    "collapsed": true
   },
   "outputs": [],
   "source": [
    "from math import sqrt\n",
    "\n",
    "class Conv_ReLU_Block(nn.Module):\n",
    "    def __init__(self, kernel=3):\n",
    "        super(Conv_ReLU_Block, self).__init__()\n",
    "        kernel = 3\n",
    "        self.conv = nn.Conv2d(in_channels=64, out_channels=64, kernel_size=kernel, stride=1, padding=int((kernel-1)/2), bias=False)\n",
    "        self.relu = nn.ReLU(inplace=True)\n",
    "        \n",
    "    def forward(self, x):\n",
    "        return self.relu(self.conv(x))\n",
    "        \n",
    "class Net(nn.Module):\n",
    "    def __init__(self, num_of_layers=18):\n",
    "        super(Net, self).__init__()\n",
    "        self.residual_layer = self.make_layer(Conv_ReLU_Block, num_of_layers)\n",
    "        self.input = nn.Conv2d(in_channels=3, out_channels=64, kernel_size=3, stride=1, padding=1, bias=False)\n",
    "        self.output = nn.Conv2d(in_channels=64, out_channels=3, kernel_size=3, stride=1, padding=1, bias=False)\n",
    "        self.relu = nn.ReLU(inplace=True)\n",
    "    \n",
    "        for m in self.modules():\n",
    "            if isinstance(m, nn.Conv2d):\n",
    "                n = m.kernel_size[0] * m.kernel_size[1] * m.out_channels\n",
    "                m.weight.data.normal_(0, sqrt(2. / n))\n",
    "                \n",
    "    def make_layer(self, block, num_of_layer):\n",
    "        layers = []\n",
    "        kernel_size = 3\n",
    "        for num in range(num_of_layer):\n",
    "            layers.append(block(kernel=3*(num+1)))\n",
    "        return nn.Sequential(*layers)\n",
    "\n",
    "    def forward(self, x):\n",
    "#         print(\"Size {}\".format(x.size()))\n",
    "#         print(\"Size {}\".format(x.size()))\n",
    "        residual = x\n",
    "        out = self.relu(self.input(x))\n",
    "        out = self.residual_layer(out)\n",
    "        out = self.output(out)\n",
    "        out = torch.add(out,residual)\n",
    "        return out"
   ]
  },
  {
   "cell_type": "code",
   "execution_count": 6,
   "metadata": {
    "collapsed": true
   },
   "outputs": [],
   "source": [
    "from math import log10\n",
    "\n",
    "def single_evaluate_and_show(sample):\n",
    "    input = Variable(sample[0].unsqueeze(0).cuda(CUDA_DEVICE))\n",
    "    target = Variable(sample[1].unsqueeze(0).cuda(CUDA_DEVICE))\n",
    "    prediction = model(input) \n",
    "    mse_i = criterion(input, target)\n",
    "    mse_m = criterion(prediction, target)\n",
    "    psnr_i = 10 * log10(1 / mse_i)\n",
    "    psnr_m = 10 * log10(1 / mse_m)\n",
    "    \n",
    "    result = (target, input, prediction)\n",
    "    fig = plt.figure(figsize=(8, 20))\n",
    "    plots = []\n",
    "    for idx, image in enumerate(result, 1):\n",
    "        image = image.data.squeeze(0)\n",
    "        invert = transforms.Compose([ transforms.Normalize(mean = [ 0., 0., 0. ],\n",
    "                                                            std = [ 1/0.229, 1/0.224, 1/0.225 ]),\n",
    "                                    transforms.Normalize(mean = [ -0.485, -0.456, -0.406 ],\n",
    "                                                          std = [ 1., 1., 1. ]),\n",
    "                                    ])\n",
    "        image = invert(image)\n",
    "        image = np.asarray(image)\n",
    "        plots.append(fig.add_subplot(3, 1, idx))\n",
    "        plots[idx-1].imshow((np.transpose(image, (1, 2, 0))))\n",
    "    print(\"Inter PSNR: {:.4f} dB\".format(psnr_i))\n",
    "    print(\"Model PSNR: {:.4f} dB\".format(psnr_m))\n",
    "    \n",
    "def validation(model):\n",
    "    input, target = valid_dataset.__getitem__(0)\n",
    "    input, target = Variable(input.unsqueeze(0)).cuda(CUDA_DEVICE), Variable(target.unsqueeze(0)).cuda(CUDA_DEVICE)\n",
    "    input = model(input)\n",
    "    return criterion(input, target)"
   ]
  },
  {
   "cell_type": "code",
   "execution_count": 7,
   "metadata": {
    "collapsed": false
   },
   "outputs": [],
   "source": [
    "def train(training_data_loader, model, optimizer, criterion, epoch, lr):\n",
    "\n",
    "    print(\"Epoch = {}, lr = {}\".format(epoch, optimizer.param_groups[0][\"lr\"]))\n",
    "    loss_acc = 0\n",
    "    loss_acc_return = 0\n",
    "    for iteration, batch in enumerate(training_data_loader, 1):\n",
    "\n",
    "        input, target = Variable(batch[0].cuda(CUDA_DEVICE)), Variable(batch[1].cuda(CUDA_DEVICE))\n",
    "\n",
    "        loss = criterion(model(input), target)\n",
    "        loss_acc += loss\n",
    "        loss_acc_return += loss\n",
    "        optimizer.zero_grad()\n",
    "        loss.backward()\n",
    "        \n",
    "        max_grad_norm = 0.1 / lr\n",
    "        nn.utils.clip_grad_norm(model.parameters(),max_grad_norm) \n",
    "        \n",
    "        optimizer.step()\n",
    "\n",
    "        \n",
    "        show_every = 100\n",
    "\n",
    "        if iteration % show_every == 0:\n",
    "            loss_show = loss_acc / show_every\n",
    "            loss_acc = 0\n",
    "            print(\"===> Epoch[{}]({}/{}): Loss: {:.10f} \".format(epoch, iteration, len(training_data_loader), loss_show))\n",
    "        \n",
    "    return loss_acc_return / 1090"
   ]
  },
  {
   "cell_type": "code",
   "execution_count": 8,
   "metadata": {
    "collapsed": false,
    "scrolled": true
   },
   "outputs": [],
   "source": [
    "model = Net(num_of_layers=18).cuda(CUDA_DEVICE)\n",
    "a = model.train()"
   ]
  },
  {
   "cell_type": "code",
   "execution_count": 9,
   "metadata": {
    "collapsed": false
   },
   "outputs": [],
   "source": [
    "train_dataset = HR_dataset(size=40)\n",
    "valid_dataset = HR_dataset(validation=True, size=100)\n",
    "\n",
    "criterion = nn.MSELoss().cuda(CUDA_DEVICE)"
   ]
  },
  {
   "cell_type": "code",
   "execution_count": 10,
   "metadata": {
    "collapsed": false
   },
   "outputs": [],
   "source": [
    "lr = 0.1\n",
    "minibatch_size = 1\n",
    "\n",
    "train_loader = torch.utils.data.DataLoader(train_dataset, batch_size=minibatch_size, shuffle=True, num_workers=2)\n",
    "single_loader = torch.utils.data.DataLoader(train_dataset, batch_size=1)\n",
    "\n",
    "optimizer = optim.SGD(model.parameters(), lr=lr, momentum=0.9, nesterov=False, weight_decay=0.0001)"
   ]
  },
  {
   "cell_type": "code",
   "execution_count": 11,
   "metadata": {
    "collapsed": false,
    "scrolled": true
   },
   "outputs": [
    {
     "name": "stdout",
     "output_type": "stream",
     "text": [
      "Validation: 0.8009895086288452\n",
      "Epoch = 0, lr = 0.1\n",
      "===> Epoch[0](100/1084): Loss: 0.1128908917 \n",
      "===> Epoch[0](200/1084): Loss: 0.0820227787 \n",
      "===> Epoch[0](300/1084): Loss: 0.0843496174 \n",
      "===> Epoch[0](400/1084): Loss: 0.0837014765 \n",
      "===> Epoch[0](500/1084): Loss: 0.0832344741 \n",
      "===> Epoch[0](600/1084): Loss: 0.0976946503 \n",
      "===> Epoch[0](700/1084): Loss: 0.0913529769 \n",
      "===> Epoch[0](800/1084): Loss: 0.0873880684 \n",
      "===> Epoch[0](900/1084): Loss: 0.0804045275 \n",
      "===> Epoch[0](1000/1084): Loss: 0.1037632748 \n",
      "Validation: 0.5122128129005432\n",
      "Epoch = 1, lr = 0.1\n",
      "===> Epoch[1](100/1084): Loss: 0.0666553080 \n",
      "===> Epoch[1](200/1084): Loss: 0.0781150162 \n",
      "===> Epoch[1](300/1084): Loss: 0.1103691682 \n",
      "===> Epoch[1](400/1084): Loss: 0.0659956783 \n",
      "===> Epoch[1](500/1084): Loss: 0.1308520138 \n",
      "===> Epoch[1](600/1084): Loss: 0.0994873047 \n",
      "===> Epoch[1](700/1084): Loss: 0.1034369171 \n",
      "===> Epoch[1](800/1084): Loss: 0.0676596612 \n",
      "===> Epoch[1](900/1084): Loss: 0.0925987288 \n",
      "===> Epoch[1](1000/1084): Loss: 0.0945595056 \n",
      "Validation: 0.47622421383857727\n",
      "Epoch = 2, lr = 0.1\n",
      "===> Epoch[2](100/1084): Loss: 0.1033855602 \n",
      "===> Epoch[2](200/1084): Loss: 0.0890990049 \n",
      "===> Epoch[2](300/1084): Loss: 0.0997057110 \n",
      "===> Epoch[2](400/1084): Loss: 0.0736084953 \n",
      "===> Epoch[2](500/1084): Loss: 0.0790236816 \n",
      "===> Epoch[2](600/1084): Loss: 0.0799980164 \n",
      "===> Epoch[2](700/1084): Loss: 0.0826350749 \n",
      "===> Epoch[2](800/1084): Loss: 0.1030323133 \n",
      "===> Epoch[2](900/1084): Loss: 0.0882373005 \n",
      "===> Epoch[2](1000/1084): Loss: 0.1021301895 \n",
      "Validation: 0.5122495293617249\n",
      "Epoch = 3, lr = 0.1\n",
      "===> Epoch[3](100/1084): Loss: 0.1065304354 \n",
      "===> Epoch[3](200/1084): Loss: 0.1088154316 \n",
      "===> Epoch[3](300/1084): Loss: 0.0822739080 \n",
      "===> Epoch[3](400/1084): Loss: 0.0921047702 \n",
      "===> Epoch[3](500/1084): Loss: 0.0993468165 \n",
      "===> Epoch[3](600/1084): Loss: 0.1079815179 \n",
      "===> Epoch[3](700/1084): Loss: 0.1187226102 \n",
      "===> Epoch[3](800/1084): Loss: 0.0904535949 \n",
      "===> Epoch[3](900/1084): Loss: 0.1058595255 \n",
      "===> Epoch[3](1000/1084): Loss: 0.0742877647 \n",
      "Validation: 0.3515346944332123\n",
      "Epoch = 4, lr = 0.1\n",
      "===> Epoch[4](100/1084): Loss: 0.0838810802 \n",
      "===> Epoch[4](200/1084): Loss: 0.0925443918 \n",
      "===> Epoch[4](300/1084): Loss: 0.0810292214 \n",
      "===> Epoch[4](400/1084): Loss: 0.0822829306 \n",
      "===> Epoch[4](500/1084): Loss: 0.0872068182 \n",
      "===> Epoch[4](600/1084): Loss: 0.0964607894 \n"
     ]
    },
    {
     "ename": "RuntimeError",
     "evalue": "cuda runtime error (2) : out of memory at /opt/conda/conda-bld/pytorch_1525812548180/work/aten/src/THC/generic/THCStorage.cu:58",
     "output_type": "error",
     "traceback": [
      "\u001b[0;31m---------------------------------------------------------------------------\u001b[0m",
      "\u001b[0;31mRuntimeError\u001b[0m                              Traceback (most recent call last)",
      "\u001b[0;32m<ipython-input-11-6de9a19f5634>\u001b[0m in \u001b[0;36m<module>\u001b[0;34m()\u001b[0m\n\u001b[1;32m      5\u001b[0m         \u001b[0mval_res\u001b[0m \u001b[0;34m=\u001b[0m \u001b[0mvalidation\u001b[0m\u001b[0;34m(\u001b[0m\u001b[0mmodel\u001b[0m\u001b[0;34m)\u001b[0m\u001b[0;34m\u001b[0m\u001b[0m\n\u001b[1;32m      6\u001b[0m         \u001b[0mprint\u001b[0m\u001b[0;34m(\u001b[0m\u001b[0;34m\"Validation: {}\"\u001b[0m\u001b[0;34m.\u001b[0m\u001b[0mformat\u001b[0m\u001b[0;34m(\u001b[0m\u001b[0mval_res\u001b[0m\u001b[0;34m)\u001b[0m\u001b[0;34m)\u001b[0m\u001b[0;34m\u001b[0m\u001b[0m\n\u001b[0;32m----> 7\u001b[0;31m     \u001b[0ml\u001b[0m \u001b[0;34m=\u001b[0m \u001b[0mtrain\u001b[0m\u001b[0;34m(\u001b[0m\u001b[0mtrain_loader\u001b[0m\u001b[0;34m,\u001b[0m \u001b[0mmodel\u001b[0m\u001b[0;34m,\u001b[0m \u001b[0moptimizer\u001b[0m\u001b[0;34m,\u001b[0m \u001b[0mcriterion\u001b[0m\u001b[0;34m,\u001b[0m \u001b[0mepoch\u001b[0m\u001b[0;34m,\u001b[0m \u001b[0mlr\u001b[0m\u001b[0;34m)\u001b[0m\u001b[0;34m\u001b[0m\u001b[0m\n\u001b[0m\u001b[1;32m      8\u001b[0m     \u001b[0mloss\u001b[0m\u001b[0;34m.\u001b[0m\u001b[0mappend\u001b[0m\u001b[0;34m(\u001b[0m\u001b[0ml\u001b[0m\u001b[0;34m)\u001b[0m\u001b[0;34m\u001b[0m\u001b[0m\n\u001b[1;32m      9\u001b[0m \u001b[0;34m\u001b[0m\u001b[0m\n",
      "\u001b[0;32m<ipython-input-7-0104b695a43f>\u001b[0m in \u001b[0;36mtrain\u001b[0;34m(training_data_loader, model, optimizer, criterion, epoch, lr)\u001b[0m\n\u001b[1;32m     15\u001b[0m         \u001b[0mloss_acc_return\u001b[0m \u001b[0;34m+=\u001b[0m \u001b[0mloss\u001b[0m\u001b[0;34m\u001b[0m\u001b[0m\n\u001b[1;32m     16\u001b[0m         \u001b[0moptimizer\u001b[0m\u001b[0;34m.\u001b[0m\u001b[0mzero_grad\u001b[0m\u001b[0;34m(\u001b[0m\u001b[0;34m)\u001b[0m\u001b[0;34m\u001b[0m\u001b[0m\n\u001b[0;32m---> 17\u001b[0;31m         \u001b[0mloss\u001b[0m\u001b[0;34m.\u001b[0m\u001b[0mbackward\u001b[0m\u001b[0;34m(\u001b[0m\u001b[0;34m)\u001b[0m\u001b[0;34m\u001b[0m\u001b[0m\n\u001b[0m\u001b[1;32m     18\u001b[0m \u001b[0;34m\u001b[0m\u001b[0m\n\u001b[1;32m     19\u001b[0m         \u001b[0mmax_grad_norm\u001b[0m \u001b[0;34m=\u001b[0m \u001b[0;36m0.1\u001b[0m \u001b[0;34m/\u001b[0m \u001b[0mlr\u001b[0m\u001b[0;34m\u001b[0m\u001b[0m\n",
      "\u001b[0;32m/home/k.taletskiy/anaconda3/lib/python3.6/site-packages/torch/tensor.py\u001b[0m in \u001b[0;36mbackward\u001b[0;34m(self, gradient, retain_graph, create_graph)\u001b[0m\n\u001b[1;32m     91\u001b[0m                 \u001b[0mproducts\u001b[0m\u001b[0;34m.\u001b[0m \u001b[0mDefaults\u001b[0m \u001b[0mto\u001b[0m\u001b[0;31m \u001b[0m\u001b[0;31m`\u001b[0m\u001b[0;31m`\u001b[0m\u001b[0;32mFalse\u001b[0m\u001b[0;31m`\u001b[0m\u001b[0;31m`\u001b[0m\u001b[0;34m.\u001b[0m\u001b[0;34m\u001b[0m\u001b[0m\n\u001b[1;32m     92\u001b[0m         \"\"\"\n\u001b[0;32m---> 93\u001b[0;31m         \u001b[0mtorch\u001b[0m\u001b[0;34m.\u001b[0m\u001b[0mautograd\u001b[0m\u001b[0;34m.\u001b[0m\u001b[0mbackward\u001b[0m\u001b[0;34m(\u001b[0m\u001b[0mself\u001b[0m\u001b[0;34m,\u001b[0m \u001b[0mgradient\u001b[0m\u001b[0;34m,\u001b[0m \u001b[0mretain_graph\u001b[0m\u001b[0;34m,\u001b[0m \u001b[0mcreate_graph\u001b[0m\u001b[0;34m)\u001b[0m\u001b[0;34m\u001b[0m\u001b[0m\n\u001b[0m\u001b[1;32m     94\u001b[0m \u001b[0;34m\u001b[0m\u001b[0m\n\u001b[1;32m     95\u001b[0m     \u001b[0;32mdef\u001b[0m \u001b[0mregister_hook\u001b[0m\u001b[0;34m(\u001b[0m\u001b[0mself\u001b[0m\u001b[0;34m,\u001b[0m \u001b[0mhook\u001b[0m\u001b[0;34m)\u001b[0m\u001b[0;34m:\u001b[0m\u001b[0;34m\u001b[0m\u001b[0m\n",
      "\u001b[0;32m/home/k.taletskiy/anaconda3/lib/python3.6/site-packages/torch/autograd/__init__.py\u001b[0m in \u001b[0;36mbackward\u001b[0;34m(tensors, grad_tensors, retain_graph, create_graph, grad_variables)\u001b[0m\n\u001b[1;32m     87\u001b[0m     Variable._execution_engine.run_backward(\n\u001b[1;32m     88\u001b[0m         \u001b[0mtensors\u001b[0m\u001b[0;34m,\u001b[0m \u001b[0mgrad_tensors\u001b[0m\u001b[0;34m,\u001b[0m \u001b[0mretain_graph\u001b[0m\u001b[0;34m,\u001b[0m \u001b[0mcreate_graph\u001b[0m\u001b[0;34m,\u001b[0m\u001b[0;34m\u001b[0m\u001b[0m\n\u001b[0;32m---> 89\u001b[0;31m         allow_unreachable=True)  # allow_unreachable flag\n\u001b[0m\u001b[1;32m     90\u001b[0m \u001b[0;34m\u001b[0m\u001b[0m\n\u001b[1;32m     91\u001b[0m \u001b[0;34m\u001b[0m\u001b[0m\n",
      "\u001b[0;31mRuntimeError\u001b[0m: cuda runtime error (2) : out of memory at /opt/conda/conda-bld/pytorch_1525812548180/work/aten/src/THC/generic/THCStorage.cu:58"
     ]
    }
   ],
   "source": [
    "import warnings; warnings.simplefilter('ignore')\n",
    "loss = []\n",
    "for epoch in range(20):\n",
    "    if epoch%1==0:\n",
    "        val_res = validation(model)\n",
    "        print(\"Validation: {}\".format(val_res))\n",
    "    l = train(train_loader, model, optimizer, criterion, epoch, lr)\n",
    "    loss.append(l)\n",
    "    \n",
    "fig = plt.figure()\n",
    "ax = fig.add_subplot(111)\n",
    "plt.ion()\n",
    "ax.clear()\n",
    "ax.plot(loss)"
   ]
  },
  {
   "cell_type": "code",
   "execution_count": 62,
   "metadata": {
    "collapsed": false,
    "scrolled": true
   },
   "outputs": [
    {
     "name": "stdout",
     "output_type": "stream",
     "text": [
      "Validation: 0.3560759723186493\n",
      "Epoch = 0, lr = 0.1\n",
      "===> Epoch[0](10/22): Loss: 0.0788482800 \n",
      "===> Epoch[0](20/22): Loss: 0.0834995732 \n",
      "Validation: 0.4890647232532501\n",
      "Epoch = 1, lr = 0.1\n",
      "===> Epoch[1](10/22): Loss: 0.0807242393 \n",
      "===> Epoch[1](20/22): Loss: 0.0744448230 \n",
      "Validation: 0.23488058149814606\n",
      "Epoch = 2, lr = 0.1\n",
      "===> Epoch[2](10/22): Loss: 0.0915841684 \n",
      "===> Epoch[2](20/22): Loss: 0.0706652030 \n",
      "Validation: 0.45910459756851196\n",
      "Epoch = 3, lr = 0.1\n",
      "===> Epoch[3](10/22): Loss: 0.0829971656 \n",
      "===> Epoch[3](20/22): Loss: 0.0802439079 \n",
      "Validation: 0.3664083778858185\n",
      "Epoch = 4, lr = 0.1\n",
      "===> Epoch[4](10/22): Loss: 0.0802421197 \n",
      "===> Epoch[4](20/22): Loss: 0.0795348808 \n",
      "Validation: 0.4649576246738434\n",
      "Epoch = 5, lr = 0.1\n",
      "===> Epoch[5](10/22): Loss: 0.0713062361 \n",
      "===> Epoch[5](20/22): Loss: 0.0803869292 \n",
      "Validation: 0.5269082188606262\n",
      "Epoch = 6, lr = 0.1\n",
      "===> Epoch[6](10/22): Loss: 0.0757015496 \n",
      "===> Epoch[6](20/22): Loss: 0.0825195611 \n",
      "Validation: 0.48386889696121216\n",
      "Epoch = 7, lr = 0.1\n",
      "===> Epoch[7](10/22): Loss: 0.0826581940 \n",
      "===> Epoch[7](20/22): Loss: 0.0677344427 \n",
      "Validation: 0.5627154111862183\n",
      "Epoch = 8, lr = 0.1\n",
      "===> Epoch[8](10/22): Loss: 0.0936523899 \n",
      "===> Epoch[8](20/22): Loss: 0.0842004567 \n",
      "Validation: 0.23053856194019318\n",
      "Epoch = 9, lr = 0.1\n",
      "===> Epoch[9](10/22): Loss: 0.0897680297 \n",
      "===> Epoch[9](20/22): Loss: 0.0822246298 \n",
      "Validation: 0.45620718598365784\n",
      "Epoch = 10, lr = 0.1\n",
      "===> Epoch[10](10/22): Loss: 0.0816630945 \n",
      "===> Epoch[10](20/22): Loss: 0.0763724074 \n",
      "Validation: 0.4539812505245209\n",
      "Epoch = 11, lr = 0.1\n",
      "===> Epoch[11](10/22): Loss: 0.0789732784 \n",
      "===> Epoch[11](20/22): Loss: 0.0747859403 \n",
      "Validation: 0.23774969577789307\n",
      "Epoch = 12, lr = 0.1\n",
      "===> Epoch[12](10/22): Loss: 0.0739811510 \n",
      "===> Epoch[12](20/22): Loss: 0.0852226466 \n",
      "Validation: 0.63251793384552\n",
      "Epoch = 13, lr = 0.1\n",
      "===> Epoch[13](10/22): Loss: 0.0743061528 \n",
      "===> Epoch[13](20/22): Loss: 0.0734271631 \n",
      "Validation: 0.5987101197242737\n",
      "Epoch = 14, lr = 0.1\n",
      "===> Epoch[14](10/22): Loss: 0.0698576644 \n",
      "===> Epoch[14](20/22): Loss: 0.0934164897 \n",
      "Validation: 0.6246111989021301\n",
      "Epoch = 15, lr = 0.1\n",
      "===> Epoch[15](10/22): Loss: 0.0733090267 \n",
      "===> Epoch[15](20/22): Loss: 0.0857051834 \n",
      "Validation: 0.24803055822849274\n",
      "Epoch = 16, lr = 0.1\n",
      "===> Epoch[16](10/22): Loss: 0.0727976635 \n",
      "===> Epoch[16](20/22): Loss: 0.0754016712 \n",
      "Validation: 0.5659602284431458\n",
      "Epoch = 17, lr = 0.1\n",
      "===> Epoch[17](10/22): Loss: 0.0831179917 \n",
      "===> Epoch[17](20/22): Loss: 0.0815223977 \n",
      "Validation: 0.2251930683851242\n",
      "Epoch = 18, lr = 0.1\n",
      "===> Epoch[18](10/22): Loss: 0.0767728090 \n",
      "===> Epoch[18](20/22): Loss: 0.0765236244 \n",
      "Validation: 0.23527434468269348\n",
      "Epoch = 19, lr = 0.1\n",
      "===> Epoch[19](10/22): Loss: 0.0862369388 \n",
      "===> Epoch[19](20/22): Loss: 0.0764187500 \n"
     ]
    },
    {
     "data": {
      "text/plain": [
       "[<matplotlib.lines.Line2D at 0x7f19a4374198>]"
      ]
     },
     "execution_count": 62,
     "metadata": {},
     "output_type": "execute_result"
    },
    {
     "data": {
      "image/png": "[encoded data removed]",
      "text/plain": [
       "<matplotlib.figure.Figure at 0x7f19a436c1d0>"
      ]
     },
     "metadata": {},
     "output_type": "display_data"
    }
   ],
   "source": [
    "for epoch in range(20):\n",
    "    if epoch%1==0:\n",
    "        val_res = validation(model)\n",
    "        print(\"Validation: {}\".format(val_res))\n",
    "    l = train(train_loader, model, optimizer, criterion, epoch, lr)\n",
    "    loss.append(l)\n",
    "    \n",
    "fig = plt.figure()\n",
    "ax = fig.add_subplot(111)\n",
    "plt.ion()\n",
    "ax.clear()\n",
    "ax.plot(loss)"
   ]
  },
  {
   "cell_type": "code",
   "execution_count": 63,
   "metadata": {
    "collapsed": false
   },
   "outputs": [
    {
     "name": "stdout",
     "output_type": "stream",
     "text": [
      "Validation: 0.4475041627883911\n",
      "Epoch = 0, lr = 0.01\n",
      "===> Epoch[0](10/22): Loss: 0.0870993361 \n",
      "===> Epoch[0](20/22): Loss: 0.0801820904 \n",
      "Validation: 0.5274578928947449\n",
      "Epoch = 1, lr = 0.01\n",
      "===> Epoch[1](10/22): Loss: 0.0738791749 \n",
      "===> Epoch[1](20/22): Loss: 0.0857950673 \n",
      "Validation: 0.25952306389808655\n",
      "Epoch = 2, lr = 0.01\n",
      "===> Epoch[2](10/22): Loss: 0.0760507286 \n",
      "===> Epoch[2](20/22): Loss: 0.0848280564 \n",
      "Validation: 0.3624313771724701\n",
      "Epoch = 3, lr = 0.01\n",
      "===> Epoch[3](10/22): Loss: 0.0806633011 \n",
      "===> Epoch[3](20/22): Loss: 0.0779987648 \n",
      "Validation: 0.3680242896080017\n",
      "Epoch = 4, lr = 0.01\n",
      "===> Epoch[4](10/22): Loss: 0.0812221989 \n",
      "===> Epoch[4](20/22): Loss: 0.0851006061 \n",
      "Validation: 0.24011574685573578\n",
      "Epoch = 5, lr = 0.01\n",
      "===> Epoch[5](10/22): Loss: 0.0792850479 \n",
      "===> Epoch[5](20/22): Loss: 0.0690798089 \n",
      "Validation: 0.5258398652076721\n",
      "Epoch = 6, lr = 0.01\n",
      "===> Epoch[6](10/22): Loss: 0.0669854879 \n",
      "===> Epoch[6](20/22): Loss: 0.0779445246 \n",
      "Validation: 0.36706945300102234\n",
      "Epoch = 7, lr = 0.01\n",
      "===> Epoch[7](10/22): Loss: 0.0760261640 \n",
      "===> Epoch[7](20/22): Loss: 0.0756336972 \n",
      "Validation: 0.5240653157234192\n",
      "Epoch = 8, lr = 0.01\n",
      "===> Epoch[8](10/22): Loss: 0.0766743869 \n",
      "===> Epoch[8](20/22): Loss: 0.0775920376 \n",
      "Validation: 0.6229915618896484\n",
      "Epoch = 9, lr = 0.01\n",
      "===> Epoch[9](10/22): Loss: 0.0710109174 \n",
      "===> Epoch[9](20/22): Loss: 0.0737807676 \n",
      "Validation: 0.25454315543174744\n",
      "Epoch = 10, lr = 0.01\n",
      "===> Epoch[10](10/22): Loss: 0.0685126558 \n",
      "===> Epoch[10](20/22): Loss: 0.0737799332 \n",
      "Validation: 0.3609389364719391\n",
      "Epoch = 11, lr = 0.01\n",
      "===> Epoch[11](10/22): Loss: 0.0781766176 \n",
      "===> Epoch[11](20/22): Loss: 0.0779571682 \n",
      "Validation: 0.4711161255836487\n",
      "Epoch = 12, lr = 0.01\n",
      "===> Epoch[12](10/22): Loss: 0.0722855702 \n",
      "===> Epoch[12](20/22): Loss: 0.0795712844 \n",
      "Validation: 0.3540993928909302\n",
      "Epoch = 13, lr = 0.01\n",
      "===> Epoch[13](10/22): Loss: 0.0662346110 \n",
      "===> Epoch[13](20/22): Loss: 0.0800039098 \n",
      "Validation: 0.24170872569084167\n",
      "Epoch = 14, lr = 0.01\n",
      "===> Epoch[14](10/22): Loss: 0.0742668658 \n",
      "===> Epoch[14](20/22): Loss: 0.0766217336 \n",
      "Validation: 0.3703065514564514\n",
      "Epoch = 15, lr = 0.01\n",
      "===> Epoch[15](10/22): Loss: 0.0689756200 \n",
      "===> Epoch[15](20/22): Loss: 0.0766189843 \n",
      "Validation: 0.5509291887283325\n",
      "Epoch = 16, lr = 0.01\n",
      "===> Epoch[16](10/22): Loss: 0.0777385309 \n",
      "===> Epoch[16](20/22): Loss: 0.0809377879 \n",
      "Validation: 0.24329517781734467\n",
      "Epoch = 17, lr = 0.01\n",
      "===> Epoch[17](10/22): Loss: 0.0806328356 \n",
      "===> Epoch[17](20/22): Loss: 0.0768905655 \n",
      "Validation: 0.35803306102752686\n",
      "Epoch = 18, lr = 0.01\n",
      "===> Epoch[18](10/22): Loss: 0.0748460069 \n",
      "===> Epoch[18](20/22): Loss: 0.0801900253 \n",
      "Validation: 0.2530118227005005\n",
      "Epoch = 19, lr = 0.01\n",
      "===> Epoch[19](10/22): Loss: 0.0790144578 \n",
      "===> Epoch[19](20/22): Loss: 0.0765856281 \n",
      "Validation: 0.47388461232185364\n",
      "Epoch = 20, lr = 0.01\n",
      "===> Epoch[20](10/22): Loss: 0.0774272978 \n",
      "===> Epoch[20](20/22): Loss: 0.0731857121 \n",
      "Validation: 0.36585333943367004\n",
      "Epoch = 21, lr = 0.01\n",
      "===> Epoch[21](10/22): Loss: 0.0772251338 \n",
      "===> Epoch[21](20/22): Loss: 0.0782514140 \n",
      "Validation: 0.5540772080421448\n",
      "Epoch = 22, lr = 0.01\n",
      "===> Epoch[22](10/22): Loss: 0.0850282982 \n",
      "===> Epoch[22](20/22): Loss: 0.0709466189 \n",
      "Validation: 0.622486412525177\n",
      "Epoch = 23, lr = 0.01\n",
      "===> Epoch[23](10/22): Loss: 0.0740520358 \n",
      "===> Epoch[23](20/22): Loss: 0.0805996507 \n",
      "Validation: 0.2377619445323944\n",
      "Epoch = 24, lr = 0.01\n",
      "===> Epoch[24](10/22): Loss: 0.0807670578 \n",
      "===> Epoch[24](20/22): Loss: 0.0811434314 \n",
      "Validation: 0.23454278707504272\n",
      "Epoch = 25, lr = 0.01\n",
      "===> Epoch[25](10/22): Loss: 0.0776521191 \n",
      "===> Epoch[25](20/22): Loss: 0.0714501590 \n",
      "Validation: 0.470930814743042\n",
      "Epoch = 26, lr = 0.01\n",
      "===> Epoch[26](10/22): Loss: 0.0756771192 \n",
      "===> Epoch[26](20/22): Loss: 0.0706213713 \n",
      "Validation: 0.45269760489463806\n",
      "Epoch = 27, lr = 0.01\n",
      "===> Epoch[27](10/22): Loss: 0.0791485533 \n",
      "===> Epoch[27](20/22): Loss: 0.0775692090 \n",
      "Validation: 0.47015708684921265\n",
      "Epoch = 28, lr = 0.01\n",
      "===> Epoch[28](10/22): Loss: 0.0720831379 \n",
      "===> Epoch[28](20/22): Loss: 0.0813723952 \n",
      "Validation: 0.3666418194770813\n",
      "Epoch = 29, lr = 0.01\n",
      "===> Epoch[29](10/22): Loss: 0.0726540312 \n",
      "===> Epoch[29](20/22): Loss: 0.0807555318 \n"
     ]
    },
    {
     "data": {
      "text/plain": [
       "[<matplotlib.lines.Line2D at 0x7f19a4460978>]"
      ]
     },
     "execution_count": 63,
     "metadata": {},
     "output_type": "execute_result"
    },
    {
     "data": {
      "image/png": "[encoded data removed]",
      "text/plain": [
       "<matplotlib.figure.Figure at 0x7f19a43d2f28>"
      ]
     },
     "metadata": {},
     "output_type": "display_data"
    }
   ],
   "source": [
    "lr /= 10\n",
    "optimizer = optim.SGD(model.parameters(), lr=lr, momentum=0.9, nesterov=False, weight_decay=0.0001)\n",
    "\n",
    "for epoch in range(30):\n",
    "    if epoch%1==0:\n",
    "        val_res = validation(model)\n",
    "        print(\"Validation: {}\".format(val_res))\n",
    "    l = train(train_loader, model, optimizer, criterion, epoch, lr)\n",
    "    loss.append(l)\n",
    "    \n",
    "fig = plt.figure()\n",
    "ax = fig.add_subplot(111)\n",
    "plt.ion()\n",
    "ax.clear()\n",
    "ax.plot(loss)"
   ]
  },
  {
   "cell_type": "code",
   "execution_count": 64,
   "metadata": {
    "collapsed": false
   },
   "outputs": [
    {
     "name": "stdout",
     "output_type": "stream",
     "text": [
      "Validation: 0.24093690514564514\n",
      "Epoch = 0, lr = 0.001\n",
      "===> Epoch[0](10/22): Loss: 0.0733689815 \n",
      "===> Epoch[0](20/22): Loss: 0.0759929940 \n",
      "Validation: 0.45039889216423035\n",
      "Epoch = 1, lr = 0.001\n",
      "===> Epoch[1](10/22): Loss: 0.0798149407 \n",
      "===> Epoch[1](20/22): Loss: 0.0748630315 \n",
      "Validation: 0.35996177792549133\n",
      "Epoch = 2, lr = 0.001\n",
      "===> Epoch[2](10/22): Loss: 0.0784047693 \n",
      "===> Epoch[2](20/22): Loss: 0.0728970394 \n",
      "Validation: 0.5228044986724854\n",
      "Epoch = 3, lr = 0.001\n",
      "===> Epoch[3](10/22): Loss: 0.0786516815 \n",
      "===> Epoch[3](20/22): Loss: 0.0723368376 \n",
      "Validation: 0.46987468004226685\n",
      "Epoch = 4, lr = 0.001\n",
      "===> Epoch[4](10/22): Loss: 0.0746575072 \n",
      "===> Epoch[4](20/22): Loss: 0.0793346092 \n",
      "Validation: 0.35932448506355286\n",
      "Epoch = 5, lr = 0.001\n",
      "===> Epoch[5](10/22): Loss: 0.0747209713 \n",
      "===> Epoch[5](20/22): Loss: 0.0741903111 \n",
      "Validation: 0.3597401976585388\n",
      "Epoch = 6, lr = 0.001\n",
      "===> Epoch[6](10/22): Loss: 0.0707898512 \n",
      "===> Epoch[6](20/22): Loss: 0.0794449076 \n",
      "Validation: 0.5506962537765503\n",
      "Epoch = 7, lr = 0.001\n",
      "===> Epoch[7](10/22): Loss: 0.0880585760 \n",
      "===> Epoch[7](20/22): Loss: 0.0773137957 \n",
      "Validation: 0.5867020487785339\n",
      "Epoch = 8, lr = 0.001\n",
      "===> Epoch[8](10/22): Loss: 0.0817898139 \n",
      "===> Epoch[8](20/22): Loss: 0.0668723434 \n",
      "Validation: 0.47102904319763184\n",
      "Epoch = 9, lr = 0.001\n",
      "===> Epoch[9](10/22): Loss: 0.0744782686 \n",
      "===> Epoch[9](20/22): Loss: 0.0735379681 \n",
      "Validation: 0.3517802953720093\n",
      "Epoch = 10, lr = 0.001\n",
      "===> Epoch[10](10/22): Loss: 0.0730061159 \n",
      "===> Epoch[10](20/22): Loss: 0.0825638399 \n",
      "Validation: 0.550934374332428\n",
      "Epoch = 11, lr = 0.001\n",
      "===> Epoch[11](10/22): Loss: 0.0749751329 \n",
      "===> Epoch[11](20/22): Loss: 0.0740933195 \n",
      "Validation: 0.2339363694190979\n",
      "Epoch = 12, lr = 0.001\n",
      "===> Epoch[12](10/22): Loss: 0.0769673884 \n",
      "===> Epoch[12](20/22): Loss: 0.0773882195 \n",
      "Validation: 0.5865654349327087\n",
      "Epoch = 13, lr = 0.001\n",
      "===> Epoch[13](10/22): Loss: 0.0737479106 \n",
      "===> Epoch[13](20/22): Loss: 0.0862390772 \n",
      "Validation: 0.24659132957458496\n",
      "Epoch = 14, lr = 0.001\n",
      "===> Epoch[14](10/22): Loss: 0.0759175271 \n",
      "===> Epoch[14](20/22): Loss: 0.0727147236 \n",
      "Validation: 0.24191993474960327\n",
      "Epoch = 15, lr = 0.001\n",
      "===> Epoch[15](10/22): Loss: 0.0790714473 \n",
      "===> Epoch[15](20/22): Loss: 0.0767661557 \n",
      "Validation: 0.24159011244773865\n",
      "Epoch = 16, lr = 0.001\n",
      "===> Epoch[16](10/22): Loss: 0.0743124112 \n",
      "===> Epoch[16](20/22): Loss: 0.0812769309 \n",
      "Validation: 0.5502583980560303\n",
      "Epoch = 17, lr = 0.001\n",
      "===> Epoch[17](10/22): Loss: 0.0759192780 \n",
      "===> Epoch[17](20/22): Loss: 0.0757926852 \n",
      "Validation: 0.24719558656215668\n",
      "Epoch = 18, lr = 0.001\n",
      "===> Epoch[18](10/22): Loss: 0.0802376717 \n",
      "===> Epoch[18](20/22): Loss: 0.0741465464 \n",
      "Validation: 0.4509883224964142\n",
      "Epoch = 19, lr = 0.001\n",
      "===> Epoch[19](10/22): Loss: 0.0646071956 \n",
      "===> Epoch[19](20/22): Loss: 0.0731874928 \n",
      "Validation: 0.3656018078327179\n",
      "Epoch = 20, lr = 0.001\n",
      "===> Epoch[20](10/22): Loss: 0.0761635229 \n",
      "===> Epoch[20](20/22): Loss: 0.0917946398 \n",
      "Validation: 0.5227494835853577\n",
      "Epoch = 21, lr = 0.001\n",
      "===> Epoch[21](10/22): Loss: 0.0757068172 \n",
      "===> Epoch[21](20/22): Loss: 0.0829594210 \n",
      "Validation: 0.5234483480453491\n",
      "Epoch = 22, lr = 0.001\n",
      "===> Epoch[22](10/22): Loss: 0.0747677088 \n",
      "===> Epoch[22](20/22): Loss: 0.0732333064 \n",
      "Validation: 0.6200585961341858\n",
      "Epoch = 23, lr = 0.001\n",
      "===> Epoch[23](10/22): Loss: 0.0772667155 \n",
      "===> Epoch[23](20/22): Loss: 0.0715708882 \n",
      "Validation: 0.4514200687408447\n",
      "Epoch = 24, lr = 0.001\n",
      "===> Epoch[24](10/22): Loss: 0.0727705956 \n",
      "===> Epoch[24](20/22): Loss: 0.0900533646 \n",
      "Validation: 0.44760656356811523\n",
      "Epoch = 25, lr = 0.001\n",
      "===> Epoch[25](10/22): Loss: 0.0853701010 \n",
      "===> Epoch[25](20/22): Loss: 0.0697549805 \n",
      "Validation: 0.3611181974411011\n",
      "Epoch = 26, lr = 0.001\n",
      "===> Epoch[26](10/22): Loss: 0.0761921331 \n",
      "===> Epoch[26](20/22): Loss: 0.0666825324 \n",
      "Validation: 0.2418583631515503\n",
      "Epoch = 27, lr = 0.001\n",
      "===> Epoch[27](10/22): Loss: 0.0695580617 \n",
      "===> Epoch[27](20/22): Loss: 0.0728453100 \n",
      "Validation: 0.46980178356170654\n",
      "Epoch = 28, lr = 0.001\n",
      "===> Epoch[28](10/22): Loss: 0.0775943622 \n",
      "===> Epoch[28](20/22): Loss: 0.0791309401 \n",
      "Validation: 0.548936128616333\n",
      "Epoch = 29, lr = 0.001\n",
      "===> Epoch[29](10/22): Loss: 0.0802268088 \n",
      "===> Epoch[29](20/22): Loss: 0.0742453709 \n"
     ]
    },
    {
     "data": {
      "text/plain": [
       "[<matplotlib.lines.Line2D at 0x7f19a4393fd0>]"
      ]
     },
     "execution_count": 64,
     "metadata": {},
     "output_type": "execute_result"
    },
    {
     "data": {
      "image/png": "[encoded data removed]",
      "text/plain": [
       "<matplotlib.figure.Figure at 0x7f19a4196b70>"
      ]
     },
     "metadata": {},
     "output_type": "display_data"
    }
   ],
   "source": [
    "lr /= 10\n",
    "optimizer = optim.SGD(model.parameters(), lr=lr, momentum=0.9, nesterov=False, weight_decay=0.0001)\n",
    "\n",
    "for epoch in range(30):\n",
    "    if epoch%1==0:\n",
    "        val_res = validation(model)\n",
    "        print(\"Validation: {}\".format(val_res))\n",
    "    l = train(train_loader, model, optimizer, criterion, epoch, lr)\n",
    "    loss.append(l)\n",
    "    \n",
    "fig = plt.figure()\n",
    "ax = fig.add_subplot(111)\n",
    "plt.ion()\n",
    "ax.clear()\n",
    "ax.plot(loss)"
   ]
  },
  {
   "cell_type": "code",
   "execution_count": 65,
   "metadata": {
    "collapsed": true
   },
   "outputs": [],
   "source": [
    "torch.save(model, '/home/k.taletskiy/10_SuperResolution/vdsr_ms_bs=1')"
   ]
  },
  {
   "cell_type": "code",
   "execution_count": 13,
   "metadata": {
    "collapsed": false
   },
   "outputs": [
    {
     "ename": "RuntimeError",
     "evalue": "cuda runtime error (2) : out of memory at /opt/conda/conda-bld/pytorch_1525812548180/work/aten/src/THC/generic/THCStorage.cu:58",
     "output_type": "error",
     "traceback": [
      "\u001b[0;31m---------------------------------------------------------------------------\u001b[0m",
      "\u001b[0;31mRuntimeError\u001b[0m                              Traceback (most recent call last)",
      "\u001b[0;32m<ipython-input-13-074bd0f7ed54>\u001b[0m in \u001b[0;36m<module>\u001b[0;34m()\u001b[0m\n\u001b[0;32m----> 1\u001b[0;31m \u001b[0msingle_evaluate_and_show\u001b[0m\u001b[0;34m(\u001b[0m\u001b[0mtrain_dataset\u001b[0m\u001b[0;34m.\u001b[0m\u001b[0m__getitem__\u001b[0m\u001b[0;34m(\u001b[0m\u001b[0;36m0\u001b[0m\u001b[0;34m)\u001b[0m\u001b[0;34m)\u001b[0m\u001b[0;34m\u001b[0m\u001b[0m\n\u001b[0m",
      "\u001b[0;32m<ipython-input-6-2e0417252a11>\u001b[0m in \u001b[0;36msingle_evaluate_and_show\u001b[0;34m(sample)\u001b[0m\n\u001b[1;32m      4\u001b[0m     \u001b[0minput\u001b[0m \u001b[0;34m=\u001b[0m \u001b[0mVariable\u001b[0m\u001b[0;34m(\u001b[0m\u001b[0msample\u001b[0m\u001b[0;34m[\u001b[0m\u001b[0;36m0\u001b[0m\u001b[0;34m]\u001b[0m\u001b[0;34m.\u001b[0m\u001b[0munsqueeze\u001b[0m\u001b[0;34m(\u001b[0m\u001b[0;36m0\u001b[0m\u001b[0;34m)\u001b[0m\u001b[0;34m.\u001b[0m\u001b[0mcuda\u001b[0m\u001b[0;34m(\u001b[0m\u001b[0mCUDA_DEVICE\u001b[0m\u001b[0;34m)\u001b[0m\u001b[0;34m)\u001b[0m\u001b[0;34m\u001b[0m\u001b[0m\n\u001b[1;32m      5\u001b[0m     \u001b[0mtarget\u001b[0m \u001b[0;34m=\u001b[0m \u001b[0mVariable\u001b[0m\u001b[0;34m(\u001b[0m\u001b[0msample\u001b[0m\u001b[0;34m[\u001b[0m\u001b[0;36m1\u001b[0m\u001b[0;34m]\u001b[0m\u001b[0;34m.\u001b[0m\u001b[0munsqueeze\u001b[0m\u001b[0;34m(\u001b[0m\u001b[0;36m0\u001b[0m\u001b[0;34m)\u001b[0m\u001b[0;34m.\u001b[0m\u001b[0mcuda\u001b[0m\u001b[0;34m(\u001b[0m\u001b[0mCUDA_DEVICE\u001b[0m\u001b[0;34m)\u001b[0m\u001b[0;34m)\u001b[0m\u001b[0;34m\u001b[0m\u001b[0m\n\u001b[0;32m----> 6\u001b[0;31m     \u001b[0mprediction\u001b[0m \u001b[0;34m=\u001b[0m \u001b[0mmodel\u001b[0m\u001b[0;34m(\u001b[0m\u001b[0minput\u001b[0m\u001b[0;34m)\u001b[0m\u001b[0;34m\u001b[0m\u001b[0m\n\u001b[0m\u001b[1;32m      7\u001b[0m     \u001b[0mmse_i\u001b[0m \u001b[0;34m=\u001b[0m \u001b[0mcriterion\u001b[0m\u001b[0;34m(\u001b[0m\u001b[0minput\u001b[0m\u001b[0;34m,\u001b[0m \u001b[0mtarget\u001b[0m\u001b[0;34m)\u001b[0m\u001b[0;34m\u001b[0m\u001b[0m\n\u001b[1;32m      8\u001b[0m     \u001b[0mmse_m\u001b[0m \u001b[0;34m=\u001b[0m \u001b[0mcriterion\u001b[0m\u001b[0;34m(\u001b[0m\u001b[0mprediction\u001b[0m\u001b[0;34m,\u001b[0m \u001b[0mtarget\u001b[0m\u001b[0;34m)\u001b[0m\u001b[0;34m\u001b[0m\u001b[0m\n",
      "\u001b[0;32m/home/k.taletskiy/anaconda3/lib/python3.6/site-packages/torch/nn/modules/module.py\u001b[0m in \u001b[0;36m__call__\u001b[0;34m(self, *input, **kwargs)\u001b[0m\n\u001b[1;32m    489\u001b[0m             \u001b[0mresult\u001b[0m \u001b[0;34m=\u001b[0m \u001b[0mself\u001b[0m\u001b[0;34m.\u001b[0m\u001b[0m_slow_forward\u001b[0m\u001b[0;34m(\u001b[0m\u001b[0;34m*\u001b[0m\u001b[0minput\u001b[0m\u001b[0;34m,\u001b[0m \u001b[0;34m**\u001b[0m\u001b[0mkwargs\u001b[0m\u001b[0;34m)\u001b[0m\u001b[0;34m\u001b[0m\u001b[0m\n\u001b[1;32m    490\u001b[0m         \u001b[0;32melse\u001b[0m\u001b[0;34m:\u001b[0m\u001b[0;34m\u001b[0m\u001b[0m\n\u001b[0;32m--> 491\u001b[0;31m             \u001b[0mresult\u001b[0m \u001b[0;34m=\u001b[0m \u001b[0mself\u001b[0m\u001b[0;34m.\u001b[0m\u001b[0mforward\u001b[0m\u001b[0;34m(\u001b[0m\u001b[0;34m*\u001b[0m\u001b[0minput\u001b[0m\u001b[0;34m,\u001b[0m \u001b[0;34m**\u001b[0m\u001b[0mkwargs\u001b[0m\u001b[0;34m)\u001b[0m\u001b[0;34m\u001b[0m\u001b[0m\n\u001b[0m\u001b[1;32m    492\u001b[0m         \u001b[0;32mfor\u001b[0m \u001b[0mhook\u001b[0m \u001b[0;32min\u001b[0m \u001b[0mself\u001b[0m\u001b[0;34m.\u001b[0m\u001b[0m_forward_hooks\u001b[0m\u001b[0;34m.\u001b[0m\u001b[0mvalues\u001b[0m\u001b[0;34m(\u001b[0m\u001b[0;34m)\u001b[0m\u001b[0;34m:\u001b[0m\u001b[0;34m\u001b[0m\u001b[0m\n\u001b[1;32m    493\u001b[0m             \u001b[0mhook_result\u001b[0m \u001b[0;34m=\u001b[0m \u001b[0mhook\u001b[0m\u001b[0;34m(\u001b[0m\u001b[0mself\u001b[0m\u001b[0;34m,\u001b[0m \u001b[0minput\u001b[0m\u001b[0;34m,\u001b[0m \u001b[0mresult\u001b[0m\u001b[0;34m)\u001b[0m\u001b[0;34m\u001b[0m\u001b[0m\n",
      "\u001b[0;32m<ipython-input-5-fa3d19cee68c>\u001b[0m in \u001b[0;36mforward\u001b[0;34m(self, x)\u001b[0m\n\u001b[1;32m     36\u001b[0m         \u001b[0mresidual\u001b[0m \u001b[0;34m=\u001b[0m \u001b[0mx\u001b[0m\u001b[0;34m\u001b[0m\u001b[0m\n\u001b[1;32m     37\u001b[0m         \u001b[0mout\u001b[0m \u001b[0;34m=\u001b[0m \u001b[0mself\u001b[0m\u001b[0;34m.\u001b[0m\u001b[0mrelu\u001b[0m\u001b[0;34m(\u001b[0m\u001b[0mself\u001b[0m\u001b[0;34m.\u001b[0m\u001b[0minput\u001b[0m\u001b[0;34m(\u001b[0m\u001b[0mx\u001b[0m\u001b[0;34m)\u001b[0m\u001b[0;34m)\u001b[0m\u001b[0;34m\u001b[0m\u001b[0m\n\u001b[0;32m---> 38\u001b[0;31m         \u001b[0mout\u001b[0m \u001b[0;34m=\u001b[0m \u001b[0mself\u001b[0m\u001b[0;34m.\u001b[0m\u001b[0mresidual_layer\u001b[0m\u001b[0;34m(\u001b[0m\u001b[0mout\u001b[0m\u001b[0;34m)\u001b[0m\u001b[0;34m\u001b[0m\u001b[0m\n\u001b[0m\u001b[1;32m     39\u001b[0m         \u001b[0mout\u001b[0m \u001b[0;34m=\u001b[0m \u001b[0mself\u001b[0m\u001b[0;34m.\u001b[0m\u001b[0moutput\u001b[0m\u001b[0;34m(\u001b[0m\u001b[0mout\u001b[0m\u001b[0;34m)\u001b[0m\u001b[0;34m\u001b[0m\u001b[0m\n\u001b[1;32m     40\u001b[0m         \u001b[0mout\u001b[0m \u001b[0;34m=\u001b[0m \u001b[0mtorch\u001b[0m\u001b[0;34m.\u001b[0m\u001b[0madd\u001b[0m\u001b[0;34m(\u001b[0m\u001b[0mout\u001b[0m\u001b[0;34m,\u001b[0m\u001b[0mresidual\u001b[0m\u001b[0;34m)\u001b[0m\u001b[0;34m\u001b[0m\u001b[0m\n",
      "\u001b[0;32m/home/k.taletskiy/anaconda3/lib/python3.6/site-packages/torch/nn/modules/module.py\u001b[0m in \u001b[0;36m__call__\u001b[0;34m(self, *input, **kwargs)\u001b[0m\n\u001b[1;32m    489\u001b[0m             \u001b[0mresult\u001b[0m \u001b[0;34m=\u001b[0m \u001b[0mself\u001b[0m\u001b[0;34m.\u001b[0m\u001b[0m_slow_forward\u001b[0m\u001b[0;34m(\u001b[0m\u001b[0;34m*\u001b[0m\u001b[0minput\u001b[0m\u001b[0;34m,\u001b[0m \u001b[0;34m**\u001b[0m\u001b[0mkwargs\u001b[0m\u001b[0;34m)\u001b[0m\u001b[0;34m\u001b[0m\u001b[0m\n\u001b[1;32m    490\u001b[0m         \u001b[0;32melse\u001b[0m\u001b[0;34m:\u001b[0m\u001b[0;34m\u001b[0m\u001b[0m\n\u001b[0;32m--> 491\u001b[0;31m             \u001b[0mresult\u001b[0m \u001b[0;34m=\u001b[0m \u001b[0mself\u001b[0m\u001b[0;34m.\u001b[0m\u001b[0mforward\u001b[0m\u001b[0;34m(\u001b[0m\u001b[0;34m*\u001b[0m\u001b[0minput\u001b[0m\u001b[0;34m,\u001b[0m \u001b[0;34m**\u001b[0m\u001b[0mkwargs\u001b[0m\u001b[0;34m)\u001b[0m\u001b[0;34m\u001b[0m\u001b[0m\n\u001b[0m\u001b[1;32m    492\u001b[0m         \u001b[0;32mfor\u001b[0m \u001b[0mhook\u001b[0m \u001b[0;32min\u001b[0m \u001b[0mself\u001b[0m\u001b[0;34m.\u001b[0m\u001b[0m_forward_hooks\u001b[0m\u001b[0;34m.\u001b[0m\u001b[0mvalues\u001b[0m\u001b[0;34m(\u001b[0m\u001b[0;34m)\u001b[0m\u001b[0;34m:\u001b[0m\u001b[0;34m\u001b[0m\u001b[0m\n\u001b[1;32m    493\u001b[0m             \u001b[0mhook_result\u001b[0m \u001b[0;34m=\u001b[0m \u001b[0mhook\u001b[0m\u001b[0;34m(\u001b[0m\u001b[0mself\u001b[0m\u001b[0;34m,\u001b[0m \u001b[0minput\u001b[0m\u001b[0;34m,\u001b[0m \u001b[0mresult\u001b[0m\u001b[0;34m)\u001b[0m\u001b[0;34m\u001b[0m\u001b[0m\n",
      "\u001b[0;32m/home/k.taletskiy/anaconda3/lib/python3.6/site-packages/torch/nn/modules/container.py\u001b[0m in \u001b[0;36mforward\u001b[0;34m(self, input)\u001b[0m\n\u001b[1;32m     89\u001b[0m     \u001b[0;32mdef\u001b[0m \u001b[0mforward\u001b[0m\u001b[0;34m(\u001b[0m\u001b[0mself\u001b[0m\u001b[0;34m,\u001b[0m \u001b[0minput\u001b[0m\u001b[0;34m)\u001b[0m\u001b[0;34m:\u001b[0m\u001b[0;34m\u001b[0m\u001b[0m\n\u001b[1;32m     90\u001b[0m         \u001b[0;32mfor\u001b[0m \u001b[0mmodule\u001b[0m \u001b[0;32min\u001b[0m \u001b[0mself\u001b[0m\u001b[0;34m.\u001b[0m\u001b[0m_modules\u001b[0m\u001b[0;34m.\u001b[0m\u001b[0mvalues\u001b[0m\u001b[0;34m(\u001b[0m\u001b[0;34m)\u001b[0m\u001b[0;34m:\u001b[0m\u001b[0;34m\u001b[0m\u001b[0m\n\u001b[0;32m---> 91\u001b[0;31m             \u001b[0minput\u001b[0m \u001b[0;34m=\u001b[0m \u001b[0mmodule\u001b[0m\u001b[0;34m(\u001b[0m\u001b[0minput\u001b[0m\u001b[0;34m)\u001b[0m\u001b[0;34m\u001b[0m\u001b[0m\n\u001b[0m\u001b[1;32m     92\u001b[0m         \u001b[0;32mreturn\u001b[0m \u001b[0minput\u001b[0m\u001b[0;34m\u001b[0m\u001b[0m\n\u001b[1;32m     93\u001b[0m \u001b[0;34m\u001b[0m\u001b[0m\n",
      "\u001b[0;32m/home/k.taletskiy/anaconda3/lib/python3.6/site-packages/torch/nn/modules/module.py\u001b[0m in \u001b[0;36m__call__\u001b[0;34m(self, *input, **kwargs)\u001b[0m\n\u001b[1;32m    489\u001b[0m             \u001b[0mresult\u001b[0m \u001b[0;34m=\u001b[0m \u001b[0mself\u001b[0m\u001b[0;34m.\u001b[0m\u001b[0m_slow_forward\u001b[0m\u001b[0;34m(\u001b[0m\u001b[0;34m*\u001b[0m\u001b[0minput\u001b[0m\u001b[0;34m,\u001b[0m \u001b[0;34m**\u001b[0m\u001b[0mkwargs\u001b[0m\u001b[0;34m)\u001b[0m\u001b[0;34m\u001b[0m\u001b[0m\n\u001b[1;32m    490\u001b[0m         \u001b[0;32melse\u001b[0m\u001b[0;34m:\u001b[0m\u001b[0;34m\u001b[0m\u001b[0m\n\u001b[0;32m--> 491\u001b[0;31m             \u001b[0mresult\u001b[0m \u001b[0;34m=\u001b[0m \u001b[0mself\u001b[0m\u001b[0;34m.\u001b[0m\u001b[0mforward\u001b[0m\u001b[0;34m(\u001b[0m\u001b[0;34m*\u001b[0m\u001b[0minput\u001b[0m\u001b[0;34m,\u001b[0m \u001b[0;34m**\u001b[0m\u001b[0mkwargs\u001b[0m\u001b[0;34m)\u001b[0m\u001b[0;34m\u001b[0m\u001b[0m\n\u001b[0m\u001b[1;32m    492\u001b[0m         \u001b[0;32mfor\u001b[0m \u001b[0mhook\u001b[0m \u001b[0;32min\u001b[0m \u001b[0mself\u001b[0m\u001b[0;34m.\u001b[0m\u001b[0m_forward_hooks\u001b[0m\u001b[0;34m.\u001b[0m\u001b[0mvalues\u001b[0m\u001b[0;34m(\u001b[0m\u001b[0;34m)\u001b[0m\u001b[0;34m:\u001b[0m\u001b[0;34m\u001b[0m\u001b[0m\n\u001b[1;32m    493\u001b[0m             \u001b[0mhook_result\u001b[0m \u001b[0;34m=\u001b[0m \u001b[0mhook\u001b[0m\u001b[0;34m(\u001b[0m\u001b[0mself\u001b[0m\u001b[0;34m,\u001b[0m \u001b[0minput\u001b[0m\u001b[0;34m,\u001b[0m \u001b[0mresult\u001b[0m\u001b[0;34m)\u001b[0m\u001b[0;34m\u001b[0m\u001b[0m\n",
      "\u001b[0;32m<ipython-input-5-fa3d19cee68c>\u001b[0m in \u001b[0;36mforward\u001b[0;34m(self, x)\u001b[0m\n\u001b[1;32m      9\u001b[0m \u001b[0;34m\u001b[0m\u001b[0m\n\u001b[1;32m     10\u001b[0m     \u001b[0;32mdef\u001b[0m \u001b[0mforward\u001b[0m\u001b[0;34m(\u001b[0m\u001b[0mself\u001b[0m\u001b[0;34m,\u001b[0m \u001b[0mx\u001b[0m\u001b[0;34m)\u001b[0m\u001b[0;34m:\u001b[0m\u001b[0;34m\u001b[0m\u001b[0m\n\u001b[0;32m---> 11\u001b[0;31m         \u001b[0;32mreturn\u001b[0m \u001b[0mself\u001b[0m\u001b[0;34m.\u001b[0m\u001b[0mrelu\u001b[0m\u001b[0;34m(\u001b[0m\u001b[0mself\u001b[0m\u001b[0;34m.\u001b[0m\u001b[0mconv\u001b[0m\u001b[0;34m(\u001b[0m\u001b[0mx\u001b[0m\u001b[0;34m)\u001b[0m\u001b[0;34m)\u001b[0m\u001b[0;34m\u001b[0m\u001b[0m\n\u001b[0m\u001b[1;32m     12\u001b[0m \u001b[0;34m\u001b[0m\u001b[0m\n\u001b[1;32m     13\u001b[0m \u001b[0;32mclass\u001b[0m \u001b[0mNet\u001b[0m\u001b[0;34m(\u001b[0m\u001b[0mnn\u001b[0m\u001b[0;34m.\u001b[0m\u001b[0mModule\u001b[0m\u001b[0;34m)\u001b[0m\u001b[0;34m:\u001b[0m\u001b[0;34m\u001b[0m\u001b[0m\n",
      "\u001b[0;32m/home/k.taletskiy/anaconda3/lib/python3.6/site-packages/torch/nn/modules/module.py\u001b[0m in \u001b[0;36m__call__\u001b[0;34m(self, *input, **kwargs)\u001b[0m\n\u001b[1;32m    489\u001b[0m             \u001b[0mresult\u001b[0m \u001b[0;34m=\u001b[0m \u001b[0mself\u001b[0m\u001b[0;34m.\u001b[0m\u001b[0m_slow_forward\u001b[0m\u001b[0;34m(\u001b[0m\u001b[0;34m*\u001b[0m\u001b[0minput\u001b[0m\u001b[0;34m,\u001b[0m \u001b[0;34m**\u001b[0m\u001b[0mkwargs\u001b[0m\u001b[0;34m)\u001b[0m\u001b[0;34m\u001b[0m\u001b[0m\n\u001b[1;32m    490\u001b[0m         \u001b[0;32melse\u001b[0m\u001b[0;34m:\u001b[0m\u001b[0;34m\u001b[0m\u001b[0m\n\u001b[0;32m--> 491\u001b[0;31m             \u001b[0mresult\u001b[0m \u001b[0;34m=\u001b[0m \u001b[0mself\u001b[0m\u001b[0;34m.\u001b[0m\u001b[0mforward\u001b[0m\u001b[0;34m(\u001b[0m\u001b[0;34m*\u001b[0m\u001b[0minput\u001b[0m\u001b[0;34m,\u001b[0m \u001b[0;34m**\u001b[0m\u001b[0mkwargs\u001b[0m\u001b[0;34m)\u001b[0m\u001b[0;34m\u001b[0m\u001b[0m\n\u001b[0m\u001b[1;32m    492\u001b[0m         \u001b[0;32mfor\u001b[0m \u001b[0mhook\u001b[0m \u001b[0;32min\u001b[0m \u001b[0mself\u001b[0m\u001b[0;34m.\u001b[0m\u001b[0m_forward_hooks\u001b[0m\u001b[0;34m.\u001b[0m\u001b[0mvalues\u001b[0m\u001b[0;34m(\u001b[0m\u001b[0;34m)\u001b[0m\u001b[0;34m:\u001b[0m\u001b[0;34m\u001b[0m\u001b[0m\n\u001b[1;32m    493\u001b[0m             \u001b[0mhook_result\u001b[0m \u001b[0;34m=\u001b[0m \u001b[0mhook\u001b[0m\u001b[0;34m(\u001b[0m\u001b[0mself\u001b[0m\u001b[0;34m,\u001b[0m \u001b[0minput\u001b[0m\u001b[0;34m,\u001b[0m \u001b[0mresult\u001b[0m\u001b[0;34m)\u001b[0m\u001b[0;34m\u001b[0m\u001b[0m\n",
      "\u001b[0;32m/home/k.taletskiy/anaconda3/lib/python3.6/site-packages/torch/nn/modules/conv.py\u001b[0m in \u001b[0;36mforward\u001b[0;34m(self, input)\u001b[0m\n\u001b[1;32m    299\u001b[0m     \u001b[0;32mdef\u001b[0m \u001b[0mforward\u001b[0m\u001b[0;34m(\u001b[0m\u001b[0mself\u001b[0m\u001b[0;34m,\u001b[0m \u001b[0minput\u001b[0m\u001b[0;34m)\u001b[0m\u001b[0;34m:\u001b[0m\u001b[0;34m\u001b[0m\u001b[0m\n\u001b[1;32m    300\u001b[0m         return F.conv2d(input, self.weight, self.bias, self.stride,\n\u001b[0;32m--> 301\u001b[0;31m                         self.padding, self.dilation, self.groups)\n\u001b[0m\u001b[1;32m    302\u001b[0m \u001b[0;34m\u001b[0m\u001b[0m\n\u001b[1;32m    303\u001b[0m \u001b[0;34m\u001b[0m\u001b[0m\n",
      "\u001b[0;31mRuntimeError\u001b[0m: cuda runtime error (2) : out of memory at /opt/conda/conda-bld/pytorch_1525812548180/work/aten/src/THC/generic/THCStorage.cu:58"
     ]
    }
   ],
   "source": [
    "single_evaluate_and_show(train_dataset.__getitem__(0))"
   ]
  },
  {
   "cell_type": "code",
   "execution_count": 8,
   "metadata": {
    "collapsed": true
   },
   "outputs": [],
   "source": [
    "class testUrbanDset(Dataset):\n",
    "    def __init__(self):\n",
    "        super(testUrbanDset, self).__init__()\n",
    "        self.data = torchvision.datasets.ImageFolder('image_SRF_2')\n",
    "        self.totensor = transforms.Compose([\n",
    "            transforms.ToTensor(),\n",
    "            transforms.Normalize(mean=[0.485, 0.456, 0.406],\n",
    "                                 std=[0.229, 0.224, 0.225])\n",
    "        ])\n",
    "\n",
    "    def __getitem__(self, idx, crop=False, size=50):\n",
    "        ccrop = transforms.CenterCrop(size)\n",
    "        image, _ = self.data.__getitem__(idx)\n",
    "        if crop:\n",
    "            image = ccrop(image)\n",
    "        image = self.totensor(image)\n",
    "        \n",
    "        label, _ = self.data.imgs[idx] # метод родительского класса Dataset. Возвращает строку с названием прочитанного файла.\n",
    "        \n",
    "        start, end = label.find('2/') + 2, label.find('/img')\n",
    "        label = label[start:end]\n",
    "        return image, label\n",
    "    \n",
    "    def get_examples(self, idx, crop=False, size=50):\n",
    "        pics_and_labels = {}\n",
    "        for i in range(11): # 11 - количество классов в датасете - по количеству методов (подходов)\n",
    "            index = idx + 100 * i # в каждом классе по 100 картинок\n",
    "            item = self.__getitem__(index, crop=crop, size=size)\n",
    "            pics_and_labels.update([(item[1],item[0])])\n",
    "        return pics_and_labels\n",
    "    \n",
    "    def __len__(self):\n",
    "        return self.data.__len__()"
   ]
  },
  {
   "cell_type": "code",
   "execution_count": 9,
   "metadata": {
    "collapsed": false
   },
   "outputs": [],
   "source": [
    "test_dset = testUrbanDset()\n",
    "\n",
    "def psnr(input, target, cuda=False):\n",
    "    mse = nn.MSELoss()\n",
    "    if cuda:\n",
    "        mse = mse.cuda(CUDA_DEVICE)\n",
    "    mse = mse(input, target)\n",
    "    return 10 * log10(1.0 / mse)\n",
    "#     return None\n",
    "\n",
    "def print_pics(pics, lr, hr):\n",
    "    pass\n",
    "\n",
    "def test_and_compare(model, idx=0, crop=False, size=50):\n",
    "    model.eval()\n",
    "    \n",
    "    recover = transforms.Compose([\n",
    "        transforms.Normalize(mean=[ 0., 0., 0. ],\n",
    "                             std=[ 1/0.229, 1/0.224, 1/0.225 ]),\n",
    "        transforms.Normalize(mean=[ -0.485, -0.456, -0.406 ],\n",
    "                             std=[ 1., 1., 1. ]),\n",
    "    ])\n",
    "    \n",
    "    pics = test_dset.get_examples(idx, crop=crop, size=size)\n",
    "    hr = pics.pop('HR')\n",
    "    lr = pics.pop('LR')\n",
    "    \n",
    "    size = hr.size()[1]\n",
    "    upscale = transforms.Compose([\n",
    "        transforms.Normalize(mean=[ 0., 0., 0. ],\n",
    "                             std=[ 1/0.229, 1/0.224, 1/0.225 ]),\n",
    "        transforms.Normalize(mean=[ -0.485, -0.456, -0.406 ],\n",
    "                             std=[ 1., 1., 1. ]),\n",
    "        transforms.ToPILImage(),\n",
    "        transforms.Resize(size, interpolation=2),\n",
    "        transforms.ToTensor(),\n",
    "        transforms.Normalize(mean=[0.485, 0.456, 0.406],\n",
    "                                     std=[0.229, 0.224, 0.225])\n",
    "    ])\n",
    "    \n",
    "    upscaled = upscale(lr)\n",
    "    model_input = Variable(upscaled.unsqueeze(0)).cuda(CUDA_DEVICE)\n",
    "    target = Variable(hr.unsqueeze(0), requires_grad=False).cuda(CUDA_DEVICE)\n",
    "    prediction = model(model_input)\n",
    "    model_psnr = psnr(prediction, target, cuda=True)\n",
    "    prediction = np.asarray(recover(prediction.squeeze(0)).data)\n",
    "    \n",
    "    hr = hr.cuda(CUDA_DEVICE)\n",
    "    plots = []\n",
    "    fig = plt.figure(figsize=(70, 80))\n",
    "    for it, label in enumerate(pics):\n",
    "#         image = transforms.ToTensor().__call__(pic[0])\n",
    "        image = recover(pics[label])\n",
    "        image = np.asarray(image)\n",
    "        \n",
    "        metric = psnr(pics[label].cuda(CUDA_DEVICE), hr, cuda=True)\n",
    "    #         pics_labels_psnr = pics_labels_psnr.append(pic_label_psnr)\n",
    "\n",
    "        plots.append(fig.add_subplot(12, 1, it+1))\n",
    "        plots[it].set_title('{}\\nPSNR: {:.4f} dB'.format(label, metric))\n",
    "        plots[it].imshow((np.transpose(image, (1, 2, 0))))\n",
    "        \n",
    "    plots.append(fig.add_subplot(12, 1, 10))\n",
    "    plots[9].set_title('VDSR\\nPSNR: {:.4f} dB'.format(model_psnr))\n",
    "    plots[9].imshow((np.transpose(prediction, (1, 2, 0))))\n",
    "    \n",
    "#     plots.append(fig.add_subplot(6, 2, 11))\n",
    "#     plots[9].set_title('Upscaled')\n",
    "#     plots[9].imshow((np.transpose(prediction, (1, 2, 0))))"
   ]
  },
  {
   "cell_type": "code",
   "execution_count": 8,
   "metadata": {
    "collapsed": false,
    "scrolled": true
   },
   "outputs": [
    {
     "ename": "NameError",
     "evalue": "name 'test_and_compare' is not defined",
     "output_type": "error",
     "traceback": [
      "\u001b[0;31m---------------------------------------------------------------------------\u001b[0m",
      "\u001b[0;31mNameError\u001b[0m                                 Traceback (most recent call last)",
      "\u001b[0;32m<ipython-input-8-6a40b8eaffa4>\u001b[0m in \u001b[0;36m<module>\u001b[0;34m()\u001b[0m\n\u001b[1;32m      1\u001b[0m \u001b[0;31m# model = torch.load('/home/k.taletskiy/10_SuperResolution/vdsr_nv')\u001b[0m\u001b[0;34m\u001b[0m\u001b[0;34m\u001b[0m\u001b[0m\n\u001b[0;32m----> 2\u001b[0;31m \u001b[0mtest_and_compare\u001b[0m\u001b[0;34m(\u001b[0m\u001b[0mmodel\u001b[0m\u001b[0;34m,\u001b[0m \u001b[0midx\u001b[0m\u001b[0;34m=\u001b[0m\u001b[0;36m2\u001b[0m\u001b[0;34m,\u001b[0m \u001b[0mcrop\u001b[0m\u001b[0;34m=\u001b[0m\u001b[0;32mFalse\u001b[0m\u001b[0;34m,\u001b[0m \u001b[0msize\u001b[0m\u001b[0;34m=\u001b[0m\u001b[0;36m400\u001b[0m\u001b[0;34m)\u001b[0m\u001b[0;34m\u001b[0m\u001b[0m\n\u001b[0m",
      "\u001b[0;31mNameError\u001b[0m: name 'test_and_compare' is not defined"
     ]
    }
   ],
   "source": [
    "# model = torch.load('/home/k.taletskiy/10_SuperResolution/vdsr_nv')\n",
    "test_and_compare(model, idx=2, crop=False, size=400)"
   ]
  },
  {
   "cell_type": "code",
   "execution_count": null,
   "metadata": {
    "collapsed": false
   },
   "outputs": [],
   "source": [
    "# model = torch.load('/home/k.taletskiy/10_SuperResolution/vdsr_nv')\n",
    "test_and_compare(model, idx=50, crop=False, size=50)"
   ]
  },
  {
   "cell_type": "code",
   "execution_count": null,
   "metadata": {
    "collapsed": true
   },
   "outputs": [],
   "source": [
    "# model = torch.load('/home/k.taletskiy/10_SuperResolution/vdsr_nv')\n",
    "test_and_compare(model, idx=50, crop=False, size=50)"
   ]
  },
  {
   "cell_type": "code",
   "execution_count": 20,
   "metadata": {
    "collapsed": false
   },
   "outputs": [],
   "source": [
    "torch.save(model, '/home/k.taletskiy/10_SuperResolution/vdsr_ms_v0_1')"
   ]
  },
  {
   "cell_type": "code",
   "execution_count": 83,
   "metadata": {
    "collapsed": true
   },
   "outputs": [],
   "source": [
    "def show(sample):\n",
    "    model.eval()\n",
    "    input = sample[1]\n",
    "    size = input.size()[1]*4\n",
    "    upscale = transforms.Compose([\n",
    "        transforms.Normalize(mean=[ 0., 0., 0. ],\n",
    "                             std=[ 1/0.229, 1/0.224, 1/0.225 ]),\n",
    "        transforms.Normalize(mean=[ -0.485, -0.456, -0.406 ],\n",
    "                             std=[ 1., 1., 1. ]),\n",
    "        transforms.ToPILImage(),\n",
    "        transforms.Resize(size, interpolation=2),\n",
    "        transforms.ToTensor(),\n",
    "        transforms.Normalize(mean=[0.485, 0.456, 0.406],\n",
    "                                     std=[0.229, 0.224, 0.225])\n",
    "    ])\n",
    "    inp = upscale(sample[1])\n",
    "    inp = Variable(inp.unsqueeze(0).cuda(CUDA_DEVICE))\n",
    "    prediction = model(inp)\n",
    "    \n",
    "    result = (input, prediction)\n",
    "    fig = plt.figure(figsize=(8, 20))\n",
    "    plots = []\n",
    "    for idx, image in enumerate(result, 1):\n",
    "        image = image.data.squeeze(0)\n",
    "        invert = transforms.Compose([ transforms.Normalize(mean = [ 0., 0., 0. ],\n",
    "                                                            std = [ 1/0.229, 1/0.224, 1/0.225 ]),\n",
    "                                    transforms.Normalize(mean = [ -0.485, -0.456, -0.406 ],\n",
    "                                                          std = [ 1., 1., 1. ]),\n",
    "                                    ])\n",
    "        image = invert(image)\n",
    "        image = np.asarray(image)\n",
    "        plots.append(fig.add_subplot(3, 1, idx))\n",
    "        plots[idx-1].imshow((np.transpose(image, (1, 2, 0))))"
   ]
  },
  {
   "cell_type": "code",
   "execution_count": 103,
   "metadata": {
    "collapsed": false
   },
   "outputs": [
    {
     "ename": "RuntimeError",
     "evalue": "cuda runtime error (2) : out of memory at /opt/conda/conda-bld/pytorch_1525812548180/work/aten/src/THC/generic/THCStorage.cu:58",
     "output_type": "error",
     "traceback": [
      "\u001b[0;31m---------------------------------------------------------------------------\u001b[0m",
      "\u001b[0;31mRuntimeError\u001b[0m                              Traceback (most recent call last)",
      "\u001b[0;32m<ipython-input-103-8450f648aabf>\u001b[0m in \u001b[0;36m<module>\u001b[0;34m()\u001b[0m\n\u001b[1;32m      1\u001b[0m \u001b[0mvalid_dataset\u001b[0m \u001b[0;34m=\u001b[0m \u001b[0mHR_dataset\u001b[0m\u001b[0;34m(\u001b[0m\u001b[0mvalidation\u001b[0m\u001b[0;34m=\u001b[0m\u001b[0;32mTrue\u001b[0m\u001b[0;34m,\u001b[0m \u001b[0msize\u001b[0m\u001b[0;34m=\u001b[0m\u001b[0;36m100\u001b[0m\u001b[0;34m)\u001b[0m\u001b[0;34m\u001b[0m\u001b[0m\n\u001b[0;32m----> 2\u001b[0;31m \u001b[0mshow\u001b[0m\u001b[0;34m(\u001b[0m\u001b[0mvalid_dataset\u001b[0m\u001b[0;34m.\u001b[0m\u001b[0m__getitem__\u001b[0m\u001b[0;34m(\u001b[0m\u001b[0;36m0\u001b[0m\u001b[0;34m)\u001b[0m\u001b[0;34m)\u001b[0m\u001b[0;34m\u001b[0m\u001b[0m\n\u001b[0m",
      "\u001b[0;32m<ipython-input-83-30178e759c90>\u001b[0m in \u001b[0;36mshow\u001b[0;34m(sample)\u001b[0m\n\u001b[1;32m     16\u001b[0m     \u001b[0minp\u001b[0m \u001b[0;34m=\u001b[0m \u001b[0mupscale\u001b[0m\u001b[0;34m(\u001b[0m\u001b[0msample\u001b[0m\u001b[0;34m[\u001b[0m\u001b[0;36m1\u001b[0m\u001b[0;34m]\u001b[0m\u001b[0;34m)\u001b[0m\u001b[0;34m\u001b[0m\u001b[0m\n\u001b[1;32m     17\u001b[0m     \u001b[0minp\u001b[0m \u001b[0;34m=\u001b[0m \u001b[0mVariable\u001b[0m\u001b[0;34m(\u001b[0m\u001b[0minp\u001b[0m\u001b[0;34m.\u001b[0m\u001b[0munsqueeze\u001b[0m\u001b[0;34m(\u001b[0m\u001b[0;36m0\u001b[0m\u001b[0;34m)\u001b[0m\u001b[0;34m.\u001b[0m\u001b[0mcuda\u001b[0m\u001b[0;34m(\u001b[0m\u001b[0mCUDA_DEVICE\u001b[0m\u001b[0;34m)\u001b[0m\u001b[0;34m)\u001b[0m\u001b[0;34m\u001b[0m\u001b[0m\n\u001b[0;32m---> 18\u001b[0;31m     \u001b[0mprediction\u001b[0m \u001b[0;34m=\u001b[0m \u001b[0mmodel\u001b[0m\u001b[0;34m(\u001b[0m\u001b[0minp\u001b[0m\u001b[0;34m)\u001b[0m\u001b[0;34m\u001b[0m\u001b[0m\n\u001b[0m\u001b[1;32m     19\u001b[0m \u001b[0;34m\u001b[0m\u001b[0m\n\u001b[1;32m     20\u001b[0m     \u001b[0mresult\u001b[0m \u001b[0;34m=\u001b[0m \u001b[0;34m(\u001b[0m\u001b[0minput\u001b[0m\u001b[0;34m,\u001b[0m \u001b[0mprediction\u001b[0m\u001b[0;34m)\u001b[0m\u001b[0;34m\u001b[0m\u001b[0m\n",
      "\u001b[0;32m/home/k.taletskiy/anaconda3/lib/python3.6/site-packages/torch/nn/modules/module.py\u001b[0m in \u001b[0;36m__call__\u001b[0;34m(self, *input, **kwargs)\u001b[0m\n\u001b[1;32m    489\u001b[0m             \u001b[0mresult\u001b[0m \u001b[0;34m=\u001b[0m \u001b[0mself\u001b[0m\u001b[0;34m.\u001b[0m\u001b[0m_slow_forward\u001b[0m\u001b[0;34m(\u001b[0m\u001b[0;34m*\u001b[0m\u001b[0minput\u001b[0m\u001b[0;34m,\u001b[0m \u001b[0;34m**\u001b[0m\u001b[0mkwargs\u001b[0m\u001b[0;34m)\u001b[0m\u001b[0;34m\u001b[0m\u001b[0m\n\u001b[1;32m    490\u001b[0m         \u001b[0;32melse\u001b[0m\u001b[0;34m:\u001b[0m\u001b[0;34m\u001b[0m\u001b[0m\n\u001b[0;32m--> 491\u001b[0;31m             \u001b[0mresult\u001b[0m \u001b[0;34m=\u001b[0m \u001b[0mself\u001b[0m\u001b[0;34m.\u001b[0m\u001b[0mforward\u001b[0m\u001b[0;34m(\u001b[0m\u001b[0;34m*\u001b[0m\u001b[0minput\u001b[0m\u001b[0;34m,\u001b[0m \u001b[0;34m**\u001b[0m\u001b[0mkwargs\u001b[0m\u001b[0;34m)\u001b[0m\u001b[0;34m\u001b[0m\u001b[0m\n\u001b[0m\u001b[1;32m    492\u001b[0m         \u001b[0;32mfor\u001b[0m \u001b[0mhook\u001b[0m \u001b[0;32min\u001b[0m \u001b[0mself\u001b[0m\u001b[0;34m.\u001b[0m\u001b[0m_forward_hooks\u001b[0m\u001b[0;34m.\u001b[0m\u001b[0mvalues\u001b[0m\u001b[0;34m(\u001b[0m\u001b[0;34m)\u001b[0m\u001b[0;34m:\u001b[0m\u001b[0;34m\u001b[0m\u001b[0m\n\u001b[1;32m    493\u001b[0m             \u001b[0mhook_result\u001b[0m \u001b[0;34m=\u001b[0m \u001b[0mhook\u001b[0m\u001b[0;34m(\u001b[0m\u001b[0mself\u001b[0m\u001b[0;34m,\u001b[0m \u001b[0minput\u001b[0m\u001b[0;34m,\u001b[0m \u001b[0mresult\u001b[0m\u001b[0;34m)\u001b[0m\u001b[0;34m\u001b[0m\u001b[0m\n",
      "\u001b[0;32m<ipython-input-44-fa3d19cee68c>\u001b[0m in \u001b[0;36mforward\u001b[0;34m(self, x)\u001b[0m\n\u001b[1;32m     35\u001b[0m \u001b[0;31m#         print(\"Size {}\".format(x.size()))\u001b[0m\u001b[0;34m\u001b[0m\u001b[0;34m\u001b[0m\u001b[0m\n\u001b[1;32m     36\u001b[0m         \u001b[0mresidual\u001b[0m \u001b[0;34m=\u001b[0m \u001b[0mx\u001b[0m\u001b[0;34m\u001b[0m\u001b[0m\n\u001b[0;32m---> 37\u001b[0;31m         \u001b[0mout\u001b[0m \u001b[0;34m=\u001b[0m \u001b[0mself\u001b[0m\u001b[0;34m.\u001b[0m\u001b[0mrelu\u001b[0m\u001b[0;34m(\u001b[0m\u001b[0mself\u001b[0m\u001b[0;34m.\u001b[0m\u001b[0minput\u001b[0m\u001b[0;34m(\u001b[0m\u001b[0mx\u001b[0m\u001b[0;34m)\u001b[0m\u001b[0;34m)\u001b[0m\u001b[0;34m\u001b[0m\u001b[0m\n\u001b[0m\u001b[1;32m     38\u001b[0m         \u001b[0mout\u001b[0m \u001b[0;34m=\u001b[0m \u001b[0mself\u001b[0m\u001b[0;34m.\u001b[0m\u001b[0mresidual_layer\u001b[0m\u001b[0;34m(\u001b[0m\u001b[0mout\u001b[0m\u001b[0;34m)\u001b[0m\u001b[0;34m\u001b[0m\u001b[0m\n\u001b[1;32m     39\u001b[0m         \u001b[0mout\u001b[0m \u001b[0;34m=\u001b[0m \u001b[0mself\u001b[0m\u001b[0;34m.\u001b[0m\u001b[0moutput\u001b[0m\u001b[0;34m(\u001b[0m\u001b[0mout\u001b[0m\u001b[0;34m)\u001b[0m\u001b[0;34m\u001b[0m\u001b[0m\n",
      "\u001b[0;32m/home/k.taletskiy/anaconda3/lib/python3.6/site-packages/torch/nn/modules/module.py\u001b[0m in \u001b[0;36m__call__\u001b[0;34m(self, *input, **kwargs)\u001b[0m\n\u001b[1;32m    489\u001b[0m             \u001b[0mresult\u001b[0m \u001b[0;34m=\u001b[0m \u001b[0mself\u001b[0m\u001b[0;34m.\u001b[0m\u001b[0m_slow_forward\u001b[0m\u001b[0;34m(\u001b[0m\u001b[0;34m*\u001b[0m\u001b[0minput\u001b[0m\u001b[0;34m,\u001b[0m \u001b[0;34m**\u001b[0m\u001b[0mkwargs\u001b[0m\u001b[0;34m)\u001b[0m\u001b[0;34m\u001b[0m\u001b[0m\n\u001b[1;32m    490\u001b[0m         \u001b[0;32melse\u001b[0m\u001b[0;34m:\u001b[0m\u001b[0;34m\u001b[0m\u001b[0m\n\u001b[0;32m--> 491\u001b[0;31m             \u001b[0mresult\u001b[0m \u001b[0;34m=\u001b[0m \u001b[0mself\u001b[0m\u001b[0;34m.\u001b[0m\u001b[0mforward\u001b[0m\u001b[0;34m(\u001b[0m\u001b[0;34m*\u001b[0m\u001b[0minput\u001b[0m\u001b[0;34m,\u001b[0m \u001b[0;34m**\u001b[0m\u001b[0mkwargs\u001b[0m\u001b[0;34m)\u001b[0m\u001b[0;34m\u001b[0m\u001b[0m\n\u001b[0m\u001b[1;32m    492\u001b[0m         \u001b[0;32mfor\u001b[0m \u001b[0mhook\u001b[0m \u001b[0;32min\u001b[0m \u001b[0mself\u001b[0m\u001b[0;34m.\u001b[0m\u001b[0m_forward_hooks\u001b[0m\u001b[0;34m.\u001b[0m\u001b[0mvalues\u001b[0m\u001b[0;34m(\u001b[0m\u001b[0;34m)\u001b[0m\u001b[0;34m:\u001b[0m\u001b[0;34m\u001b[0m\u001b[0m\n\u001b[1;32m    493\u001b[0m             \u001b[0mhook_result\u001b[0m \u001b[0;34m=\u001b[0m \u001b[0mhook\u001b[0m\u001b[0;34m(\u001b[0m\u001b[0mself\u001b[0m\u001b[0;34m,\u001b[0m \u001b[0minput\u001b[0m\u001b[0;34m,\u001b[0m \u001b[0mresult\u001b[0m\u001b[0;34m)\u001b[0m\u001b[0;34m\u001b[0m\u001b[0m\n",
      "\u001b[0;32m/home/k.taletskiy/anaconda3/lib/python3.6/site-packages/torch/nn/modules/conv.py\u001b[0m in \u001b[0;36mforward\u001b[0;34m(self, input)\u001b[0m\n\u001b[1;32m    299\u001b[0m     \u001b[0;32mdef\u001b[0m \u001b[0mforward\u001b[0m\u001b[0;34m(\u001b[0m\u001b[0mself\u001b[0m\u001b[0;34m,\u001b[0m \u001b[0minput\u001b[0m\u001b[0;34m)\u001b[0m\u001b[0;34m:\u001b[0m\u001b[0;34m\u001b[0m\u001b[0m\n\u001b[1;32m    300\u001b[0m         return F.conv2d(input, self.weight, self.bias, self.stride,\n\u001b[0;32m--> 301\u001b[0;31m                         self.padding, self.dilation, self.groups)\n\u001b[0m\u001b[1;32m    302\u001b[0m \u001b[0;34m\u001b[0m\u001b[0m\n\u001b[1;32m    303\u001b[0m \u001b[0;34m\u001b[0m\u001b[0m\n",
      "\u001b[0;31mRuntimeError\u001b[0m: cuda runtime error (2) : out of memory at /opt/conda/conda-bld/pytorch_1525812548180/work/aten/src/THC/generic/THCStorage.cu:58"
     ]
    }
   ],
   "source": [
    "valid_dataset = HR_dataset(validation=True, size=100)\n",
    "show(valid_dataset.__getitem__(0))"
   ]
  },
  {
   "cell_type": "code",
   "execution_count": null,
   "metadata": {
    "collapsed": true
   },
   "outputs": [],
   "source": []
  }
 ],
 "metadata": {
  "kernelspec": {
   "display_name": "Python 3",
   "language": "python",
   "name": "python3"
  },
  "language_info": {
   "codemirror_mode": {
    "name": "ipython",
    "version": 3
   },
   "file_extension": ".py",
   "mimetype": "text/x-python",
   "name": "python",
   "nbconvert_exporter": "python",
   "pygments_lexer": "ipython3",
   "version": "3.6.0"
  }
 },
 "nbformat": 4,
 "nbformat_minor": 2
}
